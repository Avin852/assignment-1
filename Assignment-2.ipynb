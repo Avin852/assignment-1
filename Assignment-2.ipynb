{
 "cells": [
  {
   "cell_type": "code",
   "execution_count": 2,
   "id": "2625b14c-2309-4453-8953-281da6a44d9e",
   "metadata": {},
   "outputs": [],
   "source": [
    "#Q1 :- To write down comment write anything after #, and 2 method is wrire anything in triple quotes, and 3rd method is select all line and the ctrl+ forward slash."
   ]
  },
  {
   "cell_type": "code",
   "execution_count": 3,
   "id": "82e5e0b8-41af-4ef7-9112-b61354ad7e46",
   "metadata": {},
   "outputs": [],
   "source": [
    "# Q2: - Variable means to to store any data or infoemation, or to assign any value and store that in computer's memory."
   ]
  },
  {
   "cell_type": "code",
   "execution_count": 4,
   "id": "c4665be8-aaba-4eb6-ad7a-1e6c45eac0b8",
   "metadata": {},
   "outputs": [],
   "source": [
    "# to assign vaiable we use = operator"
   ]
  },
  {
   "cell_type": "code",
   "execution_count": 2,
   "id": "a166ec7a-ecad-4033-8f55-9f98408fc3ac",
   "metadata": {},
   "outputs": [],
   "source": [
    "#Q3:- if we want to convert any data types, we just put them in desired data types, for instance"
   ]
  },
  {
   "cell_type": "code",
   "execution_count": 3,
   "id": "b4092437-861d-44d8-a438-f7ba3482d3b6",
   "metadata": {},
   "outputs": [],
   "source": [
    "a=568"
   ]
  },
  {
   "cell_type": "code",
   "execution_count": 4,
   "id": "b4c9d612-9db3-4b15-876c-ddc8083db67a",
   "metadata": {},
   "outputs": [
    {
     "data": {
      "text/plain": [
       "int"
      ]
     },
     "execution_count": 4,
     "metadata": {},
     "output_type": "execute_result"
    }
   ],
   "source": [
    "type(a)"
   ]
  },
  {
   "cell_type": "code",
   "execution_count": 5,
   "id": "0aef163c-4443-4848-bf06-13034d733e9c",
   "metadata": {},
   "outputs": [],
   "source": [
    "a=str(568)"
   ]
  },
  {
   "cell_type": "code",
   "execution_count": 6,
   "id": "dbcd6260-b590-449e-a48d-0a4423a29e23",
   "metadata": {},
   "outputs": [
    {
     "data": {
      "text/plain": [
       "str"
      ]
     },
     "execution_count": 6,
     "metadata": {},
     "output_type": "execute_result"
    }
   ],
   "source": [
    "type(a)"
   ]
  },
  {
   "cell_type": "code",
   "execution_count": 7,
   "id": "7063a33d-355d-47a5-808b-f876d7da607a",
   "metadata": {},
   "outputs": [],
   "source": [
    "a1=int(a)"
   ]
  },
  {
   "cell_type": "code",
   "execution_count": 8,
   "id": "da9f0a2d-92f4-4303-bba5-5dd1280e933e",
   "metadata": {},
   "outputs": [
    {
     "data": {
      "text/plain": [
       "568"
      ]
     },
     "execution_count": 8,
     "metadata": {},
     "output_type": "execute_result"
    }
   ],
   "source": [
    "a1"
   ]
  },
  {
   "cell_type": "code",
   "execution_count": 9,
   "id": "9439c27f-4bfe-4631-9b8c-7040abb83cad",
   "metadata": {},
   "outputs": [
    {
     "data": {
      "text/plain": [
       "int"
      ]
     },
     "execution_count": 9,
     "metadata": {},
     "output_type": "execute_result"
    }
   ],
   "source": [
    "type(a1)"
   ]
  },
  {
   "cell_type": "code",
   "execution_count": 1,
   "id": "f5b565b2-90cf-4ec3-8acb-e07f550dfc38",
   "metadata": {},
   "outputs": [],
   "source": [
    "#Q4:-\n",
    "#step 1: Wrire code in Python Shell Editor\n",
    "#step 2: In Command prompt, paste file location"
   ]
  },
  {
   "cell_type": "code",
   "execution_count": 2,
   "id": "a3b37183-32fd-44b4-ab50-100e526d2a7a",
   "metadata": {},
   "outputs": [],
   "source": [
    "#Q5:-\n",
    "my_list = [1,2,3,4,5]"
   ]
  },
  {
   "cell_type": "code",
   "execution_count": 6,
   "id": "a0a0d802-669c-424c-8e8d-cfb830a85068",
   "metadata": {},
   "outputs": [
    {
     "data": {
      "text/plain": [
       "[2, 3]"
      ]
     },
     "execution_count": 6,
     "metadata": {},
     "output_type": "execute_result"
    }
   ],
   "source": [
    "my_list[1:3]"
   ]
  },
  {
   "cell_type": "code",
   "execution_count": 7,
   "id": "8bc2fb24-1721-4b21-9b2c-9803560c5a42",
   "metadata": {},
   "outputs": [],
   "source": [
    "#Q6:- \n",
    "#complex number means real number and imaginary number, in python we can write complaex number as 2+10j"
   ]
  },
  {
   "cell_type": "code",
   "execution_count": 8,
   "id": "6cc16b4d-d0ea-49f3-ae06-0be3bc51eee4",
   "metadata": {},
   "outputs": [],
   "source": [
    "#Q7:-\n",
    "age = 25"
   ]
  },
  {
   "cell_type": "code",
   "execution_count": 9,
   "id": "d9d2cd6b-49a1-468a-8bc7-7671606e2078",
   "metadata": {},
   "outputs": [
    {
     "data": {
      "text/plain": [
       "25"
      ]
     },
     "execution_count": 9,
     "metadata": {},
     "output_type": "execute_result"
    }
   ],
   "source": [
    "age"
   ]
  },
  {
   "cell_type": "code",
   "execution_count": 11,
   "id": "8d4ba409-1c9c-40bf-a3e0-ce181ab857ae",
   "metadata": {},
   "outputs": [],
   "source": [
    "#Q8:-\n",
    "price = 9.99"
   ]
  },
  {
   "cell_type": "code",
   "execution_count": 15,
   "id": "7f4bfc65-0843-4341-944b-80c5e8aa905f",
   "metadata": {},
   "outputs": [
    {
     "data": {
      "text/plain": [
       "9.99"
      ]
     },
     "execution_count": 15,
     "metadata": {},
     "output_type": "execute_result"
    }
   ],
   "source": [
    "price"
   ]
  },
  {
   "cell_type": "code",
   "execution_count": 16,
   "id": "aa7930fb-0762-4a61-a680-6fc67fbf784d",
   "metadata": {},
   "outputs": [],
   "source": [
    "#price data type is float"
   ]
  },
  {
   "cell_type": "code",
   "execution_count": 17,
   "id": "6b17fa8e-fdf2-4b95-8088-f75b2ff48d2b",
   "metadata": {},
   "outputs": [],
   "source": [
    "#Q9:-\n",
    "name = 'Avinash Kumar'"
   ]
  },
  {
   "cell_type": "code",
   "execution_count": 18,
   "id": "c0d56aeb-3e1c-4259-94ff-5ed47448604c",
   "metadata": {},
   "outputs": [
    {
     "name": "stdout",
     "output_type": "stream",
     "text": [
      "Avinash Kumar\n"
     ]
    }
   ],
   "source": [
    "print(name)"
   ]
  },
  {
   "cell_type": "code",
   "execution_count": 22,
   "id": "c7e8998d-a1f1-407f-8864-91e499800904",
   "metadata": {},
   "outputs": [],
   "source": [
    "#Q10:-\n",
    "string = 'Hello World'"
   ]
  },
  {
   "cell_type": "code",
   "execution_count": 26,
   "id": "3354e6a9-5ff6-4608-b1ec-86371358f85d",
   "metadata": {},
   "outputs": [
    {
     "data": {
      "text/plain": [
       "' World'"
      ]
     },
     "execution_count": 26,
     "metadata": {},
     "output_type": "execute_result"
    }
   ],
   "source": [
    "string [5:11]"
   ]
  },
  {
   "cell_type": "code",
   "execution_count": 28,
   "id": "6309c421-f9e2-4a74-8eeb-5e0ac7358bfe",
   "metadata": {},
   "outputs": [],
   "source": [
    "#Q11:-\n",
    "is_student = True"
   ]
  },
  {
   "cell_type": "code",
   "execution_count": null,
   "id": "a42d79c3-96a5-4537-8f3f-7f5d1ae7fbe1",
   "metadata": {},
   "outputs": [],
   "source": []
  }
 ],
 "metadata": {
  "kernelspec": {
   "display_name": "Python 3 (ipykernel)",
   "language": "python",
   "name": "python3"
  },
  "language_info": {
   "codemirror_mode": {
    "name": "ipython",
    "version": 3
   },
   "file_extension": ".py",
   "mimetype": "text/x-python",
   "name": "python",
   "nbconvert_exporter": "python",
   "pygments_lexer": "ipython3",
   "version": "3.10.8"
  }
 },
 "nbformat": 4,
 "nbformat_minor": 5
}
