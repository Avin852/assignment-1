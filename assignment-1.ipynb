{
 "cells": [
  {
   "cell_type": "code",
   "execution_count": 1,
   "id": "860dd254-7c15-4d3b-a32a-4f8f4e42fae4",
   "metadata": {},
   "outputs": [],
   "source": [
    "# Q1. Create one variable containing following type of data:"
   ]
  },
  {
   "cell_type": "code",
   "execution_count": 2,
   "id": "3ffc5a03-499b-4695-a869-8b8bd97bc531",
   "metadata": {},
   "outputs": [],
   "source": [
    "# (i) string"
   ]
  },
  {
   "cell_type": "code",
   "execution_count": 3,
   "id": "4886e216-041a-45e1-a296-3243772d5e40",
   "metadata": {},
   "outputs": [],
   "source": [
    "name = \"avinash\""
   ]
  },
  {
   "cell_type": "code",
   "execution_count": 4,
   "id": "106fbd0e-2502-44b6-bc7c-0da28a86fe25",
   "metadata": {},
   "outputs": [
    {
     "data": {
      "text/plain": [
       "str"
      ]
     },
     "execution_count": 4,
     "metadata": {},
     "output_type": "execute_result"
    }
   ],
   "source": [
    "type(name)"
   ]
  },
  {
   "cell_type": "code",
   "execution_count": 5,
   "id": "5603978f-7ed7-4afc-bc35-44396a227c06",
   "metadata": {},
   "outputs": [],
   "source": [
    "# (ii) list"
   ]
  },
  {
   "cell_type": "code",
   "execution_count": 13,
   "id": "a8da604c-1763-4fba-b562-19524a6fbad9",
   "metadata": {},
   "outputs": [],
   "source": [
    "a = [4, 5, 12, 14, \"skills\", (4+7j), \"Delhi\", 99.99]"
   ]
  },
  {
   "cell_type": "code",
   "execution_count": 14,
   "id": "05789c4f-e03a-4b0b-b3b2-c5916d3bc3d3",
   "metadata": {},
   "outputs": [
    {
     "data": {
      "text/plain": [
       "list"
      ]
     },
     "execution_count": 14,
     "metadata": {},
     "output_type": "execute_result"
    }
   ],
   "source": [
    "type(a)"
   ]
  },
  {
   "cell_type": "code",
   "execution_count": 15,
   "id": "3f5b51d3-e3ab-4212-a6c4-2c3a9b061f5c",
   "metadata": {},
   "outputs": [],
   "source": [
    "# (iii) float"
   ]
  },
  {
   "cell_type": "code",
   "execution_count": 16,
   "id": "49ade367-240f-4757-8757-53e58de4b5fa",
   "metadata": {},
   "outputs": [],
   "source": [
    "z = 489.321"
   ]
  },
  {
   "cell_type": "code",
   "execution_count": 17,
   "id": "6ca45ff1-108b-4574-82e6-3415c0ddd144",
   "metadata": {},
   "outputs": [
    {
     "data": {
      "text/plain": [
       "float"
      ]
     },
     "execution_count": 17,
     "metadata": {},
     "output_type": "execute_result"
    }
   ],
   "source": [
    "type(z)"
   ]
  },
  {
   "cell_type": "code",
   "execution_count": 18,
   "id": "b85428af-ac94-4d24-a8c9-190b95e839dd",
   "metadata": {},
   "outputs": [],
   "source": [
    "# (iv) tuple"
   ]
  },
  {
   "cell_type": "code",
   "execution_count": 19,
   "id": "68255028-0d11-475b-a9d0-5d5f9dabd4bd",
   "metadata": {},
   "outputs": [],
   "source": [
    "b = (\"sudhanshu_sir\", \"krish_sir\")"
   ]
  },
  {
   "cell_type": "code",
   "execution_count": 20,
   "id": "2d85757a-2684-4222-8eb8-2287f1998441",
   "metadata": {},
   "outputs": [
    {
     "data": {
      "text/plain": [
       "tuple"
      ]
     },
     "execution_count": 20,
     "metadata": {},
     "output_type": "execute_result"
    }
   ],
   "source": [
    "type(b)"
   ]
  },
  {
   "cell_type": "code",
   "execution_count": 21,
   "id": "18bf862f-3175-4448-8146-c03cfc4c7f78",
   "metadata": {},
   "outputs": [],
   "source": [
    "# Q2. Given are some following variables containing data:"
   ]
  },
  {
   "cell_type": "code",
   "execution_count": 22,
   "id": "c3b29c94-18d3-4617-8444-4c6ca4a0b6fd",
   "metadata": {},
   "outputs": [],
   "source": [
    "# (i) var1 = ‘ ‘"
   ]
  },
  {
   "cell_type": "code",
   "execution_count": 23,
   "id": "d06084a9-156d-496b-be44-3145063375cf",
   "metadata": {},
   "outputs": [],
   "source": [
    "var1 = ''"
   ]
  },
  {
   "cell_type": "code",
   "execution_count": 24,
   "id": "41a6b146-13ec-48f5-8069-ef4047ddebdd",
   "metadata": {},
   "outputs": [
    {
     "data": {
      "text/plain": [
       "str"
      ]
     },
     "execution_count": 24,
     "metadata": {},
     "output_type": "execute_result"
    }
   ],
   "source": [
    "type(var1)"
   ]
  },
  {
   "cell_type": "code",
   "execution_count": 25,
   "id": "e1caad5e-35d4-4d36-8573-b88d819954fc",
   "metadata": {},
   "outputs": [],
   "source": [
    "# (ii) var2 = ‘[ DS , ML , Python]’"
   ]
  },
  {
   "cell_type": "code",
   "execution_count": 26,
   "id": "ed998e06-0191-4a79-9e2d-111c94ed00b1",
   "metadata": {},
   "outputs": [],
   "source": [
    "var2 = '[DS, ML, Python]'"
   ]
  },
  {
   "cell_type": "code",
   "execution_count": 27,
   "id": "6fd389ad-b5f2-4187-a713-9ab2c06fe52d",
   "metadata": {},
   "outputs": [
    {
     "data": {
      "text/plain": [
       "str"
      ]
     },
     "execution_count": 27,
     "metadata": {},
     "output_type": "execute_result"
    }
   ],
   "source": [
    "type(var2)"
   ]
  },
  {
   "cell_type": "code",
   "execution_count": 28,
   "id": "513f9b25-93df-48b4-b6ec-c662f898948a",
   "metadata": {},
   "outputs": [],
   "source": [
    "# (iii) var3 = [ ‘DS’ , ’ML’ , ‘Python’ ]"
   ]
  },
  {
   "cell_type": "code",
   "execution_count": 29,
   "id": "1b725ae8-c4a5-49e5-bb7f-74f6ae564445",
   "metadata": {},
   "outputs": [],
   "source": [
    "var3 = ['DS', 'ML', 'Python']"
   ]
  },
  {
   "cell_type": "code",
   "execution_count": 30,
   "id": "4bc00d99-f67c-4b61-bd0b-e8155446aaff",
   "metadata": {},
   "outputs": [
    {
     "data": {
      "text/plain": [
       "list"
      ]
     },
     "execution_count": 30,
     "metadata": {},
     "output_type": "execute_result"
    }
   ],
   "source": [
    "type(var3)"
   ]
  },
  {
   "cell_type": "code",
   "execution_count": 31,
   "id": "fbd96508-abdb-4a6f-9ec0-90fe51f70b5b",
   "metadata": {},
   "outputs": [],
   "source": [
    "# (iv) var4 = 1."
   ]
  },
  {
   "cell_type": "code",
   "execution_count": 32,
   "id": "639661a7-4716-43f5-b78d-4463f9c321c0",
   "metadata": {},
   "outputs": [],
   "source": [
    "var4 = 1."
   ]
  },
  {
   "cell_type": "code",
   "execution_count": 33,
   "id": "0ef84fee-3a64-44af-a511-fd4d806e8ecc",
   "metadata": {},
   "outputs": [
    {
     "data": {
      "text/plain": [
       "float"
      ]
     },
     "execution_count": 33,
     "metadata": {},
     "output_type": "execute_result"
    }
   ],
   "source": [
    "type(var4)"
   ]
  },
  {
   "cell_type": "code",
   "execution_count": 34,
   "id": "cda008ad-0a10-457d-af7f-41b9db452fc8",
   "metadata": {},
   "outputs": [],
   "source": [
    "# Q3. Explain the use of the following operators using an example:"
   ]
  },
  {
   "cell_type": "code",
   "execution_count": 37,
   "id": "c79e42df-ad77-4ef9-b039-65a157357f67",
   "metadata": {},
   "outputs": [],
   "source": [
    "# (i) /"
   ]
  },
  {
   "cell_type": "code",
   "execution_count": 38,
   "id": "cbf25488-c488-4465-8f86-c7751b6cf110",
   "metadata": {},
   "outputs": [],
   "source": [
    "# It's an arithmetic operator"
   ]
  },
  {
   "cell_type": "code",
   "execution_count": 39,
   "id": "992b42f7-5700-42b3-bb0e-cba650c1ee49",
   "metadata": {},
   "outputs": [
    {
     "data": {
      "text/plain": [
       "2.5"
      ]
     },
     "execution_count": 39,
     "metadata": {},
     "output_type": "execute_result"
    }
   ],
   "source": [
    "5/2"
   ]
  },
  {
   "cell_type": "code",
   "execution_count": 40,
   "id": "d0edb8fc-ec9e-4be5-89e1-c7924760978b",
   "metadata": {},
   "outputs": [],
   "source": [
    "# (ii) %"
   ]
  },
  {
   "cell_type": "code",
   "execution_count": 42,
   "id": "430de893-cb6f-4e90-8555-a5837ec3f6d4",
   "metadata": {},
   "outputs": [],
   "source": [
    "# It's a modulus operator, to get a remainder by dividing"
   ]
  },
  {
   "cell_type": "code",
   "execution_count": 43,
   "id": "17e3b002-775e-4b97-ab7d-21ed3aac97fc",
   "metadata": {},
   "outputs": [
    {
     "data": {
      "text/plain": [
       "2"
      ]
     },
     "execution_count": 43,
     "metadata": {},
     "output_type": "execute_result"
    }
   ],
   "source": [
    "18%4"
   ]
  },
  {
   "cell_type": "code",
   "execution_count": 44,
   "id": "ccb938f7-5861-4f3a-a893-40030e995a63",
   "metadata": {},
   "outputs": [],
   "source": [
    "# (iii) //"
   ]
  },
  {
   "cell_type": "code",
   "execution_count": 45,
   "id": "81040c35-ad18-46ee-852c-32a162551841",
   "metadata": {},
   "outputs": [],
   "source": [
    "# It's a floor division operation"
   ]
  },
  {
   "cell_type": "code",
   "execution_count": 46,
   "id": "db5feb3a-b213-42a6-a631-3b60fcadf350",
   "metadata": {},
   "outputs": [
    {
     "data": {
      "text/plain": [
       "2"
      ]
     },
     "execution_count": 46,
     "metadata": {},
     "output_type": "execute_result"
    }
   ],
   "source": [
    "15//6"
   ]
  },
  {
   "cell_type": "code",
   "execution_count": 48,
   "id": "0bde342a-a77f-409e-bb7d-142b90279114",
   "metadata": {},
   "outputs": [],
   "source": [
    "# (iv) **"
   ]
  },
  {
   "cell_type": "code",
   "execution_count": 49,
   "id": "174c4dcd-06ba-4ce3-a3b1-6bb863608526",
   "metadata": {},
   "outputs": [],
   "source": [
    "# suppose 8*8*8*8, then"
   ]
  },
  {
   "cell_type": "code",
   "execution_count": 50,
   "id": "c6ca9459-bbc5-42bb-9211-a7e9ef5f6062",
   "metadata": {},
   "outputs": [
    {
     "data": {
      "text/plain": [
       "4096"
      ]
     },
     "execution_count": 50,
     "metadata": {},
     "output_type": "execute_result"
    }
   ],
   "source": [
    "8**4"
   ]
  },
  {
   "cell_type": "code",
   "execution_count": 56,
   "id": "56fdf5dd-0af1-4a4f-9052-3de7c11bb13f",
   "metadata": {},
   "outputs": [],
   "source": [
    "#Q4. Create a list of length 10 of your choice containing multiple types of data. Using for loop print the\n",
    "#element and its data type."
   ]
  },
  {
   "cell_type": "code",
   "execution_count": 7,
   "id": "44984869-c7fe-489f-8b53-8cc4f6a1757e",
   "metadata": {},
   "outputs": [],
   "source": [
    "l=[2,3,4,5,6,7,\"avinash\",\"patna\", 54.45,True]"
   ]
  },
  {
   "cell_type": "code",
   "execution_count": 8,
   "id": "2c1c6245-e96f-45ea-8ba3-c53c431b071e",
   "metadata": {},
   "outputs": [
    {
     "name": "stdout",
     "output_type": "stream",
     "text": [
      "<class 'int'>\n",
      "<class 'int'>\n",
      "<class 'int'>\n",
      "<class 'int'>\n",
      "<class 'int'>\n",
      "<class 'int'>\n",
      "<class 'str'>\n",
      "<class 'str'>\n",
      "<class 'float'>\n",
      "<class 'bool'>\n"
     ]
    }
   ],
   "source": [
    "for i in l:\n",
    "    print(type(i))"
   ]
  },
  {
   "cell_type": "code",
   "execution_count": 9,
   "id": "57acc7f6-58bc-47aa-af5f-c70533abdcf5",
   "metadata": {},
   "outputs": [],
   "source": [
    "# Q5. Using a while loop, verify if the number A is purely divisible by number B and if so then how many\n",
    "# times it can be divisible."
   ]
  },
  {
   "cell_type": "code",
   "execution_count": 2,
   "id": "fdfbbfcb-0307-44b2-a30e-e4d9ad8d45f2",
   "metadata": {},
   "outputs": [
    {
     "name": "stdout",
     "output_type": "stream",
     "text": [
      "20\n"
     ]
    }
   ],
   "source": [
    "a = 40\n",
    "b = 2\n",
    "\n",
    "print(a//b)"
   ]
  },
  {
   "cell_type": "code",
   "execution_count": 3,
   "id": "b58b67d6-bd7f-4309-ad7b-81cd3bbca689",
   "metadata": {},
   "outputs": [],
   "source": [
    "# Q6. Create a list containing 25 int type data. Using for loop and if-else condition print if the element is\n",
    "# divisible by 3 or not."
   ]
  },
  {
   "cell_type": "code",
   "execution_count": 4,
   "id": "a040b01a-39a2-4443-b35f-948077265e01",
   "metadata": {},
   "outputs": [],
   "source": [
    "l = [2,3,4,5,6,7,8,9,10,11,12,13,14,15,16,17,18,19,20,21,22,23,24,25,26]"
   ]
  },
  {
   "cell_type": "code",
   "execution_count": 11,
   "id": "b7f7a38f-8a61-4cde-a34b-04eaa7475a93",
   "metadata": {},
   "outputs": [],
   "source": [
    "# Didn't understand the question 6."
   ]
  },
  {
   "cell_type": "code",
   "execution_count": 12,
   "id": "984d875b-a29d-4e17-8487-062d0a5c6341",
   "metadata": {},
   "outputs": [],
   "source": [
    "# Q7. What do you understand about mutable and immutable data types? Give examples for both showing\n",
    "# this property."
   ]
  },
  {
   "cell_type": "code",
   "execution_count": 13,
   "id": "5bf17d4f-5c7c-4ee0-8262-7c705dbc638c",
   "metadata": {},
   "outputs": [],
   "source": [
    "z=[2,3,4,5,\"avi\",(3+7j),True,34.56]"
   ]
  },
  {
   "cell_type": "code",
   "execution_count": 14,
   "id": "311b961a-3cb4-46a5-a832-bf7e189e6e9d",
   "metadata": {},
   "outputs": [],
   "source": [
    "z[5]=\"avinash\""
   ]
  },
  {
   "cell_type": "code",
   "execution_count": 15,
   "id": "47ab1c05-138f-4955-b556-fcc3c4c71222",
   "metadata": {},
   "outputs": [
    {
     "data": {
      "text/plain": [
       "[2, 3, 4, 5, 'avi', 'avinash', True, 34.56]"
      ]
     },
     "execution_count": 15,
     "metadata": {},
     "output_type": "execute_result"
    }
   ],
   "source": [
    "z"
   ]
  },
  {
   "cell_type": "code",
   "execution_count": null,
   "id": "25cb235a-9888-4bff-8153-a071244e1342",
   "metadata": {},
   "outputs": [],
   "source": [
    "# Hence list is mutable, we can change chnage"
   ]
  }
 ],
 "metadata": {
  "kernelspec": {
   "display_name": "Python 3 (ipykernel)",
   "language": "python",
   "name": "python3"
  },
  "language_info": {
   "codemirror_mode": {
    "name": "ipython",
    "version": 3
   },
   "file_extension": ".py",
   "mimetype": "text/x-python",
   "name": "python",
   "nbconvert_exporter": "python",
   "pygments_lexer": "ipython3",
   "version": "3.10.8"
  }
 },
 "nbformat": 4,
 "nbformat_minor": 5
}
